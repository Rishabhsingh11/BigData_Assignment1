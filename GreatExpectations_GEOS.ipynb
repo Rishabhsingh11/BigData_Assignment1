{
 "cells": [
  {
   "cell_type": "code",
   "execution_count": 1,
   "id": "708d776e-6d31-4b40-afa4-0289ebd1c788",
   "metadata": {},
   "outputs": [
    {
     "name": "stdout",
     "output_type": "stream",
     "text": [
      "2023-02-08T12:42:23-0500 - INFO - Great Expectations logging enabled at 20 level by JupyterUX module.\n"
     ]
    }
   ],
   "source": [
    "import datetime\n",
    "import pandas as pd\n",
    "import great_expectations as gx\n",
    "import great_expectations.jupyter_ux"
   ]
  },
  {
   "cell_type": "code",
   "execution_count": 2,
   "id": "0956f979-1a5c-4f5a-8497-80cb9467fcf9",
   "metadata": {},
   "outputs": [],
   "source": [
    "import sqlite3\n",
    "import boto3\n",
    "import yaml\n",
    "import csv"
   ]
  },
  {
   "cell_type": "code",
   "execution_count": 3,
   "id": "0bc7c4e5-db87-48a4-8b3f-8e8ba100f716",
   "metadata": {},
   "outputs": [],
   "source": [
    "conn = sqlite3.connect(\"noaa_goes_date.db\")\n",
    "cursor = conn.cursor()"
   ]
  },
  {
   "cell_type": "code",
   "execution_count": 4,
   "id": "07c3d5cb-2887-4908-a1d5-9be421c2d719",
   "metadata": {},
   "outputs": [],
   "source": [
    "# Execute your SELECT statement\n",
    "cursor.execute(\"SELECT * FROM noaa_goes_date\")\n",
    "\n",
    "# Fetch all the rows from the result set\n",
    "rows = cursor.fetchall()\n",
    "\n",
    "columns = [column[0] for column in cursor.description]\n",
    "\n",
    "# The name of the CSV file you want to create\n",
    "filename = \"data.csv\"\n",
    "\n",
    "# Open the CSV file for writing\n",
    "with open(filename, \"w\", newline=\"\") as file:\n",
    "    # Create a CSV writer\n",
    "    writer = csv.writer(file)\n",
    "\n",
    "    # Write the header row\n",
    "    writer.writerow(columns)\n",
    "\n",
    "    # Loop through the rows and write each row to the CSV file\n",
    "    for row in rows:\n",
    "        writer.writerow(row)\n",
    "\n",
    "# Close the cursor and connection\n",
    "cursor.close()\n",
    "conn.close()"
   ]
  },
  {
   "cell_type": "code",
   "execution_count": 5,
   "id": "dec9643a-0b5d-4151-bef6-a73455f7b947",
   "metadata": {},
   "outputs": [],
   "source": [
    "my_df = gx.read_csv(\"data.csv\")"
   ]
  },
  {
   "cell_type": "code",
   "execution_count": 6,
   "id": "2c6dc14f-1972-42ab-bc4a-b2de5766ede8",
   "metadata": {},
   "outputs": [
    {
     "data": {
      "text/html": [
       "<div>\n",
       "<style scoped>\n",
       "    .dataframe tbody tr th:only-of-type {\n",
       "        vertical-align: middle;\n",
       "    }\n",
       "\n",
       "    .dataframe tbody tr th {\n",
       "        vertical-align: top;\n",
       "    }\n",
       "\n",
       "    .dataframe thead th {\n",
       "        text-align: right;\n",
       "    }\n",
       "</style>\n",
       "<table border=\"1\" class=\"dataframe\">\n",
       "  <thead>\n",
       "    <tr style=\"text-align: right;\">\n",
       "      <th></th>\n",
       "      <th>year</th>\n",
       "      <th>day</th>\n",
       "      <th>hour</th>\n",
       "    </tr>\n",
       "  </thead>\n",
       "  <tbody>\n",
       "    <tr>\n",
       "      <th>0</th>\n",
       "      <td>2023</td>\n",
       "      <td>22</td>\n",
       "      <td>2</td>\n",
       "    </tr>\n",
       "    <tr>\n",
       "      <th>1</th>\n",
       "      <td>2022</td>\n",
       "      <td>264</td>\n",
       "      <td>5</td>\n",
       "    </tr>\n",
       "    <tr>\n",
       "      <th>2</th>\n",
       "      <td>2022</td>\n",
       "      <td>308</td>\n",
       "      <td>2</td>\n",
       "    </tr>\n",
       "    <tr>\n",
       "      <th>3</th>\n",
       "      <td>2023</td>\n",
       "      <td>21</td>\n",
       "      <td>12</td>\n",
       "    </tr>\n",
       "    <tr>\n",
       "      <th>4</th>\n",
       "      <td>2022</td>\n",
       "      <td>316</td>\n",
       "      <td>20</td>\n",
       "    </tr>\n",
       "  </tbody>\n",
       "</table>\n",
       "</div>"
      ],
      "text/plain": [
       "   year  day  hour\n",
       "0  2023   22     2\n",
       "1  2022  264     5\n",
       "2  2022  308     2\n",
       "3  2023   21    12\n",
       "4  2022  316    20"
      ]
     },
     "execution_count": 6,
     "metadata": {},
     "output_type": "execute_result"
    }
   ],
   "source": [
    "my_df.head()"
   ]
  },
  {
   "cell_type": "markdown",
   "id": "f4dfeb2c-ba75-47f4-b682-466cac609491",
   "metadata": {},
   "source": [
    "#### GREAT EXPECTATION 1: Checking if the year column in the dataset is between 2022 and 2023 "
   ]
  },
  {
   "cell_type": "code",
   "execution_count": 7,
   "id": "593eb250-f711-45e9-9a8e-6090a93e88e4",
   "metadata": {},
   "outputs": [
    {
     "data": {
      "text/plain": [
       "{\n",
       "  \"exception_info\": {\n",
       "    \"raised_exception\": false,\n",
       "    \"exception_traceback\": null,\n",
       "    \"exception_message\": null\n",
       "  },\n",
       "  \"meta\": {},\n",
       "  \"result\": {\n",
       "    \"element_count\": 4517,\n",
       "    \"missing_count\": 0,\n",
       "    \"missing_percent\": 0.0,\n",
       "    \"unexpected_count\": 0,\n",
       "    \"unexpected_percent\": 0.0,\n",
       "    \"unexpected_percent_total\": 0.0,\n",
       "    \"unexpected_percent_nonmissing\": 0.0,\n",
       "    \"partial_unexpected_list\": []\n",
       "  },\n",
       "  \"success\": true\n",
       "}"
      ]
     },
     "execution_count": 7,
     "metadata": {},
     "output_type": "execute_result"
    }
   ],
   "source": [
    "my_df.expect_column_values_to_be_between(\"year\", 2022, 2023)"
   ]
  },
  {
   "cell_type": "markdown",
   "id": "afd8d5f4-dc91-4e37-8315-034508a60459",
   "metadata": {},
   "source": [
    "#### GREAT EXPECTATION 2: Checking if the days column in the dataset is between 1 and 366(considering leap years also)"
   ]
  },
  {
   "cell_type": "code",
   "execution_count": 8,
   "id": "fe47c0e9-4232-4e86-9f7b-45d350ebe719",
   "metadata": {},
   "outputs": [
    {
     "data": {
      "text/plain": [
       "{\n",
       "  \"exception_info\": {\n",
       "    \"raised_exception\": false,\n",
       "    \"exception_traceback\": null,\n",
       "    \"exception_message\": null\n",
       "  },\n",
       "  \"meta\": {},\n",
       "  \"result\": {\n",
       "    \"element_count\": 4517,\n",
       "    \"missing_count\": 0,\n",
       "    \"missing_percent\": 0.0,\n",
       "    \"unexpected_count\": 0,\n",
       "    \"unexpected_percent\": 0.0,\n",
       "    \"unexpected_percent_total\": 0.0,\n",
       "    \"unexpected_percent_nonmissing\": 0.0,\n",
       "    \"partial_unexpected_list\": []\n",
       "  },\n",
       "  \"success\": true\n",
       "}"
      ]
     },
     "execution_count": 8,
     "metadata": {},
     "output_type": "execute_result"
    }
   ],
   "source": [
    "my_df.expect_column_values_to_be_between(\"day\", 1, 366)"
   ]
  },
  {
   "cell_type": "markdown",
   "id": "1f9bbbc9-109e-4029-981b-ef36d4e3e072",
   "metadata": {},
   "source": [
    "#### GREAT EXPECTATION 3: Checking if the hour column in the dataset is between 0 and 24 "
   ]
  },
  {
   "cell_type": "code",
   "execution_count": 9,
   "id": "c53bfe52-05cd-476e-8e82-e825c5a9ab22",
   "metadata": {},
   "outputs": [
    {
     "data": {
      "text/plain": [
       "{\n",
       "  \"exception_info\": {\n",
       "    \"raised_exception\": false,\n",
       "    \"exception_traceback\": null,\n",
       "    \"exception_message\": null\n",
       "  },\n",
       "  \"meta\": {},\n",
       "  \"result\": {\n",
       "    \"element_count\": 4517,\n",
       "    \"missing_count\": 0,\n",
       "    \"missing_percent\": 0.0,\n",
       "    \"unexpected_count\": 0,\n",
       "    \"unexpected_percent\": 0.0,\n",
       "    \"unexpected_percent_total\": 0.0,\n",
       "    \"unexpected_percent_nonmissing\": 0.0,\n",
       "    \"partial_unexpected_list\": []\n",
       "  },\n",
       "  \"success\": true\n",
       "}"
      ]
     },
     "execution_count": 9,
     "metadata": {},
     "output_type": "execute_result"
    }
   ],
   "source": [
    "my_df.expect_column_values_to_be_between(\"hour\", 0, 24)"
   ]
  },
  {
   "cell_type": "markdown",
   "id": "3a1a7b2e-46cd-46fe-ac77-3280d66156db",
   "metadata": {},
   "source": [
    "#### GREAT EXPECTATION 4: Checking if the year, day and hour column in the dataset is of type integer"
   ]
  },
  {
   "cell_type": "code",
   "execution_count": 10,
   "id": "d9d116cb-3748-4e33-9286-2c9592ac4027",
   "metadata": {},
   "outputs": [
    {
     "data": {
      "text/plain": [
       "{\n",
       "  \"exception_info\": {\n",
       "    \"raised_exception\": false,\n",
       "    \"exception_traceback\": null,\n",
       "    \"exception_message\": null\n",
       "  },\n",
       "  \"meta\": {},\n",
       "  \"result\": {\n",
       "    \"observed_value\": \"int64\"\n",
       "  },\n",
       "  \"success\": false\n",
       "}"
      ]
     },
     "execution_count": 10,
     "metadata": {},
     "output_type": "execute_result"
    }
   ],
   "source": [
    "my_df.expect_column_values_to_be_of_type(column=\"year\", type_=\"int\")"
   ]
  },
  {
   "cell_type": "code",
   "execution_count": 11,
   "id": "63891457-5e15-4142-86b1-98852c6732ed",
   "metadata": {},
   "outputs": [
    {
     "data": {
      "text/plain": [
       "{\n",
       "  \"exception_info\": {\n",
       "    \"raised_exception\": false,\n",
       "    \"exception_traceback\": null,\n",
       "    \"exception_message\": null\n",
       "  },\n",
       "  \"meta\": {},\n",
       "  \"result\": {\n",
       "    \"observed_value\": \"int64\"\n",
       "  },\n",
       "  \"success\": false\n",
       "}"
      ]
     },
     "execution_count": 11,
     "metadata": {},
     "output_type": "execute_result"
    }
   ],
   "source": [
    "my_df.expect_column_values_to_be_of_type(column=\"day\", type_=\"int\")"
   ]
  },
  {
   "cell_type": "code",
   "execution_count": 12,
   "id": "dd60ae62-287b-46db-8082-92cc9682de6e",
   "metadata": {},
   "outputs": [
    {
     "data": {
      "text/plain": [
       "{\n",
       "  \"exception_info\": {\n",
       "    \"raised_exception\": false,\n",
       "    \"exception_traceback\": null,\n",
       "    \"exception_message\": null\n",
       "  },\n",
       "  \"meta\": {},\n",
       "  \"result\": {\n",
       "    \"observed_value\": \"int64\"\n",
       "  },\n",
       "  \"success\": false\n",
       "}"
      ]
     },
     "execution_count": 12,
     "metadata": {},
     "output_type": "execute_result"
    }
   ],
   "source": [
    "my_df.expect_column_values_to_be_of_type(column=\"hour\", type_=\"int\")"
   ]
  }
 ],
 "metadata": {
  "kernelspec": {
   "display_name": "Python 3",
   "language": "python",
   "name": "python3"
  },
  "language_info": {
   "codemirror_mode": {
    "name": "ipython",
    "version": 3
   },
   "file_extension": ".py",
   "mimetype": "text/x-python",
   "name": "python",
   "nbconvert_exporter": "python",
   "pygments_lexer": "ipython3",
   "version": "3.10.0"
  },
  "vscode": {
   "interpreter": {
    "hash": "00471a67c0bf37eccff610dcd8b56ed83bfe592da592bc94690be8c7fefe63f1"
   }
  }
 },
 "nbformat": 4,
 "nbformat_minor": 5
}
