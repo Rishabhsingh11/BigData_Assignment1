{
 "cells": [
  {
   "cell_type": "code",
   "execution_count": 4,
   "id": "b8ebc6b9",
   "metadata": {},
   "outputs": [],
   "source": [
    "import boto3\n",
    "import yaml\n",
    "import sqlite3\n",
    "import streamlit as st\n",
    "\n",
    "AWS_ACCESS_KEY = st.secrets[\"AWS_ACCESS_KEY\"]\n",
    "AWS_SECRET_KEY = st.secrets[\"AWS_SECRET_KEY\"]\n",
    "\n",
    "bucket = \"noaa-goes18\""
   ]
  },
  {
   "cell_type": "code",
   "execution_count": null,
   "id": "273b4706",
   "metadata": {},
   "outputs": [],
   "source": [
    "year_list = []\n",
    "year_day_list = []\n",
    "year_day_hour_set = set()\n",
    "\n",
    "client = boto3.client(\n",
    "    \"s3\",\n",
    "    region_name=\"us-east-1\",\n",
    "    aws_access_key_id=AWS_ACCESS_KEY,\n",
    "    aws_secret_access_key=AWS_SECRET_KEY,\n",
    ")\n",
    "\n",
    "prefix = \"ABI-L1b-RadC/\"\n",
    "result = client.list_objects(Bucket=bucket, Prefix=prefix, Delimiter=\"/\")\n",
    "for o in result.get(\"CommonPrefixes\"):\n",
    "    year_list.append(o.get(\"Prefix\"))\n",
    "\n",
    "for year in year_list:\n",
    "    prefix = year\n",
    "    result = client.list_objects(Bucket=bucket, Prefix=prefix, Delimiter=\"/\")\n",
    "    for o in result.get(\"CommonPrefixes\"):\n",
    "        year_day_list.append(o.get(\"Prefix\"))\n",
    "\n",
    "for year_day in year_day_list:\n",
    "    prefix = year_day\n",
    "    result = client.list_objects(Bucket=bucket, Prefix=prefix, Delimiter=\"/\")\n",
    "    for o in result.get(\"CommonPrefixes\"):\n",
    "        meta_data = o.get(\"Prefix\").split(\"/\")\n",
    "        year_day_hour_set.add((meta_data[1], meta_data[2], meta_data[3]))\n",
    "\n",
    "conn = sqlite3.connect(\"noaa_goes_date.db\")\n",
    "cursor = conn.cursor()\n",
    "cursor.execute(\"DROP TABLE IF EXISTS noaa_goes_date\")\n",
    "# Create a new table\n",
    "cursor.execute(\n",
    "    \"CREATE TABLE IF NOT EXISTS noaa_goes_date (year text, day text, hour text)\"\n",
    ")\n",
    "for date in year_day_hour_set:\n",
    "    year, day, hour = date\n",
    "    cursor.execute(\"INSERT INTO noaa_goes_date VALUES (?, ?, ?)\", (year, day, hour))\n",
    "conn.commit()\n",
    "conn.close()"
   ]
  },
  {
   "cell_type": "code",
   "execution_count": null,
   "id": "1e9e5405",
   "metadata": {},
   "outputs": [],
   "source": []
  },
  {
   "cell_type": "code",
   "execution_count": null,
   "id": "f47791cb",
   "metadata": {},
   "outputs": [],
   "source": []
  },
  {
   "cell_type": "code",
   "execution_count": null,
   "id": "760e65c1",
   "metadata": {},
   "outputs": [],
   "source": []
  }
 ],
 "metadata": {
  "kernelspec": {
   "display_name": "Python 3",
   "language": "python",
   "name": "python3"
  },
  "language_info": {
   "codemirror_mode": {
    "name": "ipython",
    "version": 3
   },
   "file_extension": ".py",
   "mimetype": "text/x-python",
   "name": "python",
   "nbconvert_exporter": "python",
   "pygments_lexer": "ipython3",
   "version": "3.10.0"
  },
  "vscode": {
   "interpreter": {
    "hash": "00471a67c0bf37eccff610dcd8b56ed83bfe592da592bc94690be8c7fefe63f1"
   }
  }
 },
 "nbformat": 4,
 "nbformat_minor": 5
}
