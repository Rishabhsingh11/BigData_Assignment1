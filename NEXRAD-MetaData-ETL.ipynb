{
 "cells": [
  {
   "cell_type": "code",
   "execution_count": 2,
   "id": "fd0625dd-ddc1-4327-82f6-635cdbf01701",
   "metadata": {},
   "outputs": [],
   "source": [
    "import boto3\n",
    "import yaml\n",
    "import sqlite3\n",
    "\n",
    "with open(\"config.yml\", \"r\") as infile:\n",
    "    secret = yaml.safe_load(infile)\n",
    "    AWS_ACCESS_KEY = secret[\"AWS_ACCESS_KEY\"]\n",
    "    AWS_SECRET_KEY = secret[\"AWS_SECRET_KEY\"]\n",
    "bucket = \"noaa-nexrad-level2\""
   ]
  },
  {
   "cell_type": "code",
   "execution_count": 18,
   "id": "3a599b6b-f7e1-4cc8-9ed0-5d652e2d6a0d",
   "metadata": {},
   "outputs": [],
   "source": [
    "year_list = []\n",
    "year_day_list = []\n",
    "year_day_hour = []\n",
    "year_day_hour_station_code = set()\n",
    "\n",
    "client = boto3.client(\n",
    "    \"s3\",\n",
    "    region_name=\"us-east-1\",\n",
    "    aws_access_key_id=AWS_ACCESS_KEY,\n",
    "    aws_secret_access_key=AWS_SECRET_KEY,\n",
    ")\n",
    "\n",
    "prefix = \"\"\n",
    "result = client.list_objects(Bucket=bucket, Prefix=prefix, Delimiter=\"/\")\n",
    "for o in result.get(\"CommonPrefixes\"):\n",
    "    year_list.append(o.get(\"Prefix\"))\n",
    "\n",
    "for year in year_list:\n",
    "    prefix = year\n",
    "    result = client.list_objects(Bucket=bucket, Prefix=prefix, Delimiter=\"/\")\n",
    "    for o in result.get(\"CommonPrefixes\"):\n",
    "        year_day_list.append(o.get(\"Prefix\"))\n",
    "\n",
    "for year_day in year_day_list:\n",
    "    prefix = year_day\n",
    "    result = client.list_objects(Bucket=bucket, Prefix=prefix, Delimiter=\"/\")\n",
    "    for o in result.get(\"CommonPrefixes\"):\n",
    "        year_day_hour.append(o.get(\"Prefix\"))\n",
    "\n",
    "for year_day_hour in year_day_hour:\n",
    "    prefix = year_day_hour\n",
    "    result = client.list_objects(Bucket=bucket, Prefix=prefix, Delimiter=\"/\")\n",
    "    for o in result.get(\"CommonPrefixes\"):\n",
    "        meta_data = o.get(\"Prefix\").split(\"/\")\n",
    "        year_day_hour_station_code.add(\n",
    "            (meta_data[0], meta_data[1], meta_data[2], meta_data[3])\n",
    "        )\n",
    "\n",
    "conn = sqlite3.connect(\"noaa_goes_date.db\")\n",
    "cursor = conn.cursor()\n",
    "cursor.execute(\"DROP TABLE IF EXISTS noaa_nexrad_level2_date\")\n",
    "# Create a new table\n",
    "cursor.execute(\n",
    "    \"CREATE TABLE IF NOT EXISTS noaa_nexrad_level2_date (year text, month text, day text, station text)\"\n",
    ")\n",
    "for data in year_day_hour_station_code:\n",
    "    year, month, day, station = data\n",
    "    cursor.execute(\n",
    "        \"INSERT INTO noaa_nexrad_level2_date VALUES (?, ?, ?, ?)\",\n",
    "        (year, month, day, station),\n",
    "    )\n",
    "conn.commit()\n",
    "conn.close()"
   ]
  },
  {
   "cell_type": "code",
   "execution_count": null,
   "id": "c5d57d6e-2cd7-4685-bb0c-9a6bd5cbfa1c",
   "metadata": {},
   "outputs": [],
   "source": []
  }
 ],
 "metadata": {
  "kernelspec": {
   "display_name": "Python 3",
   "language": "python",
   "name": "python3"
  },
  "language_info": {
   "codemirror_mode": {
    "name": "ipython",
    "version": 3
   },
   "file_extension": ".py",
   "mimetype": "text/x-python",
   "name": "python",
   "nbconvert_exporter": "python",
   "pygments_lexer": "ipython3",
   "version": "3.10.0"
  },
  "vscode": {
   "interpreter": {
    "hash": "00471a67c0bf37eccff610dcd8b56ed83bfe592da592bc94690be8c7fefe63f1"
   }
  }
 },
 "nbformat": 4,
 "nbformat_minor": 5
}
